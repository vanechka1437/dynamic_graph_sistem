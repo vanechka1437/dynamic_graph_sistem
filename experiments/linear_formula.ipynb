{
  "cells": [
    {
      "cell_type": "code",
      "execution_count": 6,
      "metadata": {
        "id": "8QvTrvt43UZ9"
      },
      "outputs": [],
      "source": [
        "import math\n",
        "import heapq\n",
        "from itertools import combinations\n",
        "import numpy as np\n",
        "from sklearn.preprocessing import PolynomialFeatures\n",
        "from math import gcd\n",
        "from tqdm import tqdm"
      ]
    },
    {
      "cell_type": "code",
      "execution_count": 7,
      "metadata": {
        "id": "eZQfxCGOASY8"
      },
      "outputs": [],
      "source": [
        "def frobenius_number_nijenhuis(numbers):\n",
        "    \"\"\"\n",
        "    Вычисляет число Фробениуса по алгоритму Нийенхуиса.\n",
        "    Работает для множества взаимно простых чисел.\n",
        "    \"\"\"\n",
        "    numbers = sorted(numbers)\n",
        "    min_num = numbers[0]\n",
        "    n = min_num\n",
        "\n",
        "    if min_num == 1:\n",
        "        return 0\n",
        "\n",
        "    edges = [[] for _ in range(n)]\n",
        "    temp_g = [{} for _ in range(n)]\n",
        "\n",
        "    for i in range(n):\n",
        "        for num in numbers:\n",
        "            v = (num + i) % n\n",
        "            if v not in temp_g[i]:\n",
        "                temp_g[i][v] = num\n",
        "            else:\n",
        "                if temp_g[i][v] > num:\n",
        "                    temp_g[i][v] = num\n",
        "\n",
        "    for i in range(n):\n",
        "        for v, w in temp_g[i].items():\n",
        "            edges[i].append((v, w))\n",
        "\n",
        "    INF = float('inf')\n",
        "    dist = [INF] * n\n",
        "    dist[0] = 0\n",
        "\n",
        "    heap = [(0, 0)]\n",
        "    while heap:\n",
        "        d_v, v = heapq.heappop(heap)\n",
        "        if d_v != dist[v]:\n",
        "            continue\n",
        "        for u, w in edges[v]:\n",
        "            if dist[u] > dist[v] + w:\n",
        "                dist[u] = dist[v] + w\n",
        "                heapq.heappush(heap, (dist[u], u))\n",
        "\n",
        "    max_dist = max(dist[1:]) if n > 1 else 0\n",
        "    result = max_dist - n\n",
        "    return result\n"
      ]
    },
    {
      "cell_type": "code",
      "execution_count": 8,
      "metadata": {
        "id": "nQqkOvsP3abT"
      },
      "outputs": [],
      "source": [
        "def simulate_path_graph(edge_lengths: list[int]) -> tuple[int, list[int]]:\n",
        "    points = list()\n",
        "    stabilization_times = [-1 for _ in range(len(edge_lengths))]\n",
        "    points.append([0, 1])\n",
        "    vertex_positions = [0 for _ in range(len(edge_lengths) + 1)]\n",
        "    for i in range(len(edge_lengths)):\n",
        "        vertex_positions[i + 1] = vertex_positions[i] + edge_lengths[i]\n",
        "    t = 1\n",
        "    while True:\n",
        "        for point in points:\n",
        "            point[0] += point[1]\n",
        "        new_points = list()\n",
        "        for point in points:\n",
        "            if point[0] == 0 or point[0] == sum(edge_lengths):\n",
        "                point[1] *= -1\n",
        "            elif point[0] in vertex_positions and sum([p[0] == point[0] for p in points]) > 1:\n",
        "                pass\n",
        "            elif point[0] in vertex_positions:\n",
        "                new_points.append([point[0], point[1] * (-1)])\n",
        "\n",
        "        points = points + new_points\n",
        "        for i in range(len(edge_lengths)):\n",
        "            count = 0\n",
        "            for point in points:\n",
        "                if vertex_positions[i] < point[0] < vertex_positions[i + 1]:\n",
        "                    count += 1\n",
        "                if vertex_positions[i] == point[0] and point[1] == 1:\n",
        "                    count += 1\n",
        "                if vertex_positions[i + 1] == point[0] and point[1] == -1:\n",
        "                    count += 1\n",
        "            if count == edge_lengths[i]:\n",
        "                if stabilization_times[i] == -1:\n",
        "                    stabilization_times[i] = t\n",
        "        if len(points) == sum(edge_lengths):\n",
        "            return t, stabilization_times\n",
        "        t += 1"
      ]
    },
    {
      "cell_type": "code",
      "execution_count": 9,
      "metadata": {
        "id": "L9Z2trhs3lnC"
      },
      "outputs": [],
      "source": [
        "def generate_coprime_triplets():\n",
        "    numbers = range(5, 70)\n",
        "    triplets = []\n",
        "\n",
        "    for triplet in combinations(numbers, 3):\n",
        "        a, b, c = triplet\n",
        "        if math.gcd(math.gcd(a, b), c) == 1:\n",
        "            triplets.append((a, b, c))\n",
        "            triplets.append((a, c, b))\n",
        "            triplets.append((b, a, c))\n",
        "            triplets.append((b, c, a))\n",
        "            triplets.append((c, a, b))\n",
        "            triplets.append((c, b, a))\n",
        "\n",
        "    return triplets\n",
        "\n",
        "\n",
        "def generate_features(x, y, z):\n",
        "    return [x, y, z,\n",
        "            min(x, y), min(x, z), min(y, z), min(x, y, z),\n",
        "            max(x, y, z), max(x, z), max(x, y), max(x, z),\n",
        "            gcd(x, y), gcd(x, z), gcd(y, z),\n",
        "            x // gcd(x, y), y // gcd(x, y), x // gcd(x, z),\n",
        "            z // gcd(x, z), y // gcd(y, z), z // gcd(y, z),\n",
        "            frobenius_number_nijenhuis([x, y, z]),\n",
        "            frobenius_number_nijenhuis([x, x + y, x + y + z]),\n",
        "            frobenius_number_nijenhuis([x, x + z, x + y + z]),\n",
        "            frobenius_number_nijenhuis([y, y + x, x + y + z]),\n",
        "            frobenius_number_nijenhuis([y, y + z, x + y + z]),\n",
        "            frobenius_number_nijenhuis([z, z + x, x + y + z]),\n",
        "            frobenius_number_nijenhuis([z, z + y, x + y + z]),\n",
        "            frobenius_number_nijenhuis([x // gcd(x, y), y // gcd(x, y)]),\n",
        "            frobenius_number_nijenhuis([x // gcd(x, z), z // gcd(x, z)]),\n",
        "            frobenius_number_nijenhuis([y // gcd(y, z), z // gcd(y, z)])]"
      ]
    },
    {
      "cell_type": "code",
      "execution_count": 10,
      "metadata": {
        "colab": {
          "base_uri": "https://localhost:8080/"
        },
        "id": "lT68xEHq3uCt",
        "outputId": "cbbc49df-ef74-41c0-faa0-38e01e53f7a8"
      },
      "outputs": [
        {
          "output_type": "stream",
          "name": "stdout",
          "text": [
            "\n",
            "------------ существование полинома 2 степени для t_stab[0] ------------\n",
            "\n"
          ]
        },
        {
          "output_type": "stream",
          "name": "stderr",
          "text": [
            "Подсчет времени стабилизации: 100%|██████████| 5000/5000 [00:37<00:00, 132.23it/s]\n"
          ]
        },
        {
          "output_type": "stream",
          "name": "stdout",
          "text": [
            "Размерность исходных признаков: 30\n",
            "Размерность полиномиальных признаков: 495\n",
            "Ранг матрицы A: 306\n",
            "Ранг расширенной матрицы [A|B]: 307\n",
            "Система несовместна (ранги не совпадают)\n",
            "\n",
            "------------ существование полинома 2 степени для t_stab[1] ------------\n",
            "\n"
          ]
        },
        {
          "output_type": "stream",
          "name": "stderr",
          "text": [
            "Подсчет времени стабилизации: 100%|██████████| 5000/5000 [00:37<00:00, 133.73it/s]\n"
          ]
        },
        {
          "output_type": "stream",
          "name": "stdout",
          "text": [
            "Размерность исходных признаков: 30\n",
            "Размерность полиномиальных признаков: 495\n",
            "Ранг матрицы A: 306\n",
            "Ранг расширенной матрицы [A|B]: 307\n",
            "Система несовместна (ранги не совпадают)\n",
            "\n",
            "------------ существование полинома 2 степени для t_stab[2] ------------\n",
            "\n"
          ]
        },
        {
          "output_type": "stream",
          "name": "stderr",
          "text": [
            "Подсчет времени стабилизации: 100%|██████████| 5000/5000 [00:37<00:00, 133.94it/s]\n"
          ]
        },
        {
          "output_type": "stream",
          "name": "stdout",
          "text": [
            "Размерность исходных признаков: 30\n",
            "Размерность полиномиальных признаков: 495\n",
            "Ранг матрицы A: 306\n",
            "Ранг расширенной матрицы [A|B]: 306\n",
            "Система совместна\n",
            "\n",
            "------------- существование полинома 2 степени для t_total --------------\n",
            "\n"
          ]
        },
        {
          "output_type": "stream",
          "name": "stderr",
          "text": [
            "Подсчет времени стабилизации: 100%|██████████| 5000/5000 [00:37<00:00, 133.21it/s]\n"
          ]
        },
        {
          "output_type": "stream",
          "name": "stdout",
          "text": [
            "Размерность исходных признаков: 30\n",
            "Размерность полиномиальных признаков: 495\n",
            "Ранг матрицы A: 306\n",
            "Ранг расширенной матрицы [A|B]: 307\n",
            "Система несовместна (ранги не совпадают)\n"
          ]
        }
      ],
      "source": [
        "for index in range(4):\n",
        "    if 0 <= index <= 2:\n",
        "        print(f\"\\n------------ существование полинома 2 степени для t_stab[{index}] ------------\\n\")\n",
        "    else:\n",
        "        print(\"\\n------------- существование полинома 2 степени для t_total --------------\\n\")\n",
        "    triplets = generate_coprime_triplets()[:5000]\n",
        "\n",
        "    A = []\n",
        "    B = []\n",
        "\n",
        "    for a, b, c in tqdm(triplets, \"Подсчет времени стабилизации\"):\n",
        "        t_val, t_stab = simulate_path_graph([a, b, c])\n",
        "        stab_times = t_stab + [t_val]\n",
        "        row = generate_features(a, b, c)\n",
        "\n",
        "        A.append(row)\n",
        "        B.append(stab_times[index])\n",
        "\n",
        "    poly = PolynomialFeatures(degree=2, include_bias=False)\n",
        "    X_poly = poly.fit_transform(A)\n",
        "\n",
        "    print(f\"Размерность исходных признаков: {len(A[0])}\")\n",
        "    print(f\"Размерность полиномиальных признаков: {X_poly.shape[1]}\")\n",
        "\n",
        "    A = np.array(X_poly, dtype=np.float64)\n",
        "    B = np.array(B, dtype=np.float64)\n",
        "\n",
        "    rank_A = np.linalg.matrix_rank(A)\n",
        "    rank_Ab = np.linalg.matrix_rank(np.column_stack((A, B)))\n",
        "\n",
        "    print(f\"Ранг матрицы A: {rank_A}\")\n",
        "    print(f\"Ранг расширенной матрицы [A|B]: {rank_Ab}\")\n",
        "\n",
        "    if rank_A != rank_Ab:\n",
        "        print(\"Система несовместна (ранги не совпадают)\")\n",
        "    else:\n",
        "        print(\"Система совместна\")"
      ]
    }
  ],
  "metadata": {
    "colab": {
      "provenance": []
    },
    "kernelspec": {
      "display_name": "Python 3",
      "name": "python3"
    },
    "language_info": {
      "name": "python"
    }
  },
  "nbformat": 4,
  "nbformat_minor": 0
}